{
 "cells": [
  {
   "cell_type": "code",
   "execution_count": 1,
   "metadata": {},
   "outputs": [],
   "source": [
    "import torch\n",
    "import torch.nn as nn\n",
    "import torch.optim as optim\n",
    "\n",
    "import matplotlib.pyplot as plt\n",
    "\n",
    "from tqdm import tqdm\n",
    "\n",
    "from models import TextClassificationModel, zip_ssl\n",
    "from datasets import AGNEWS\n",
    "from utils import train, eval, pearson, acc, nomean, pearson_delta"
   ]
  },
  {
   "cell_type": "code",
   "execution_count": 2,
   "metadata": {},
   "outputs": [],
   "source": [
    "device = torch.device(\"cuda\" if torch.cuda.is_available() else \"cpu\")"
   ]
  },
  {
   "cell_type": "code",
   "execution_count": 3,
   "metadata": {},
   "outputs": [],
   "source": [
    "EPOCHS = 30\n",
    "LR = 1e-3\n",
    "BATCH_SIZE = 2048\n",
    "EMBED_DIM = 64"
   ]
  },
  {
   "cell_type": "code",
   "execution_count": 63,
   "metadata": {},
   "outputs": [],
   "source": [
    "ds = AGNEWS()"
   ]
  },
  {
   "cell_type": "code",
   "execution_count": 5,
   "metadata": {},
   "outputs": [],
   "source": [
    "# train_loader, val_loader, test_loader = ds.loader(BATCH_SIZE)\n",
    "# model = TextClassificationModel(embed_dim = EMBED_DIM).to(device)\n",
    "\n",
    "# criterion = torch.nn.CrossEntropyLoss()\n",
    "# optimizer = torch.optim.SGD(model.parameters(), lr = LR)"
   ]
  },
  {
   "cell_type": "code",
   "execution_count": 6,
   "metadata": {},
   "outputs": [],
   "source": [
    "# log = []\n",
    "# for epoch in tqdm(range(EPOCHS)):\n",
    "#     loss_train = train(model, train_loader, criterion, optimizer)\n",
    "#     loss_eval = eval(model, val_loader, criterion)\n",
    "#     # print(loss_train, loss_eval)\n",
    "#     log.append([loss_train, loss_eval])\n",
    "# plt.plot(log);\n",
    "# eval(model, test_loader, criterion), acc(model, test_loader)"
   ]
  },
  {
   "cell_type": "code",
   "execution_count": 7,
   "metadata": {},
   "outputs": [],
   "source": [
    "train_loader, val_loader, test_loader = ds.loader(BATCH_SIZE, ssl = True)\n",
    "model = zip_ssl(embed_dim = EMBED_DIM).to(device)\n",
    "\n",
    "# criterion = pearson\n",
    "# criterion = nomean\n",
    "criterion = nn.MSELoss()\n",
    "optimizer = optim.Adam(model.parameters(), lr = LR)"
   ]
  },
  {
   "cell_type": "code",
   "execution_count": 8,
   "metadata": {},
   "outputs": [
    {
     "name": "stderr",
     "output_type": "stream",
     "text": [
      "  3%|▎         | 1/30 [00:08<04:18,  8.92s/it]"
     ]
    },
    {
     "name": "stdout",
     "output_type": "stream",
     "text": [
      "2.308284576263344e-05 1.0371138031284014e-05 0.00011861032495896022\n"
     ]
    },
    {
     "name": "stderr",
     "output_type": "stream",
     "text": [
      "  7%|▋         | 2/30 [00:17<04:03,  8.71s/it]"
     ]
    },
    {
     "name": "stdout",
     "output_type": "stream",
     "text": [
      "1.1032447815268187e-05 1.012185774743557e-05 0.0001029937465985616\n"
     ]
    },
    {
     "name": "stderr",
     "output_type": "stream",
     "text": [
      " 10%|█         | 3/30 [00:26<03:52,  8.63s/it]"
     ]
    },
    {
     "name": "stdout",
     "output_type": "stream",
     "text": [
      "1.0512130580058223e-05 9.006561400989691e-06 8.62142393986384e-05\n"
     ]
    },
    {
     "name": "stderr",
     "output_type": "stream",
     "text": [
      " 13%|█▎        | 4/30 [00:34<03:43,  8.59s/it]"
     ]
    },
    {
     "name": "stdout",
     "output_type": "stream",
     "text": [
      "1.06876138189252e-05 8.66182055324316e-06 9.792255361874898e-05\n"
     ]
    },
    {
     "name": "stderr",
     "output_type": "stream",
     "text": [
      " 17%|█▋        | 5/30 [00:43<03:34,  8.58s/it]"
     ]
    },
    {
     "name": "stdout",
     "output_type": "stream",
     "text": [
      "1.0243423977507311e-05 1.3884142351647218e-05 8.268699670831362e-05\n"
     ]
    },
    {
     "name": "stderr",
     "output_type": "stream",
     "text": [
      " 20%|██        | 6/30 [00:51<03:26,  8.59s/it]"
     ]
    },
    {
     "name": "stdout",
     "output_type": "stream",
     "text": [
      "9.431098939099333e-06 8.674932643771172e-06 9.076176087061564e-05\n"
     ]
    },
    {
     "name": "stderr",
     "output_type": "stream",
     "text": [
      " 23%|██▎       | 7/30 [01:00<03:16,  8.56s/it]"
     ]
    },
    {
     "name": "stdout",
     "output_type": "stream",
     "text": [
      "9.669811015523839e-06 8.870085080464682e-06 9.124745676914851e-05\n"
     ]
    },
    {
     "name": "stderr",
     "output_type": "stream",
     "text": [
      " 27%|██▋       | 8/30 [01:08<03:07,  8.54s/it]"
     ]
    },
    {
     "name": "stdout",
     "output_type": "stream",
     "text": [
      "8.557921553259357e-06 8.18716703603665e-06 8.036806186040242e-05\n"
     ]
    },
    {
     "name": "stderr",
     "output_type": "stream",
     "text": [
      " 30%|███       | 9/30 [01:17<02:59,  8.53s/it]"
     ]
    },
    {
     "name": "stdout",
     "output_type": "stream",
     "text": [
      "8.967978626554995e-06 7.333790883421898e-06 0.0001332991470893224\n"
     ]
    },
    {
     "name": "stderr",
     "output_type": "stream",
     "text": [
      " 33%|███▎      | 10/30 [01:25<02:50,  8.53s/it]"
     ]
    },
    {
     "name": "stdout",
     "output_type": "stream",
     "text": [
      "8.934659344193182e-06 1.3574584387242794e-05 2.09486981232961e-05\n"
     ]
    },
    {
     "name": "stderr",
     "output_type": "stream",
     "text": [
      " 37%|███▋      | 11/30 [01:34<02:42,  8.54s/it]"
     ]
    },
    {
     "name": "stdout",
     "output_type": "stream",
     "text": [
      "9.848047905650578e-06 7.949749007821082e-06 8.012062311172485e-05\n"
     ]
    },
    {
     "name": "stderr",
     "output_type": "stream",
     "text": [
      " 40%|████      | 12/30 [01:42<02:33,  8.55s/it]"
     ]
    },
    {
     "name": "stdout",
     "output_type": "stream",
     "text": [
      "9.1917596659378e-06 1.0857013675073782e-05 9.189106027285258e-05\n"
     ]
    },
    {
     "name": "stderr",
     "output_type": "stream",
     "text": [
      " 43%|████▎     | 13/30 [01:51<02:25,  8.55s/it]"
     ]
    },
    {
     "name": "stdout",
     "output_type": "stream",
     "text": [
      "8.146803074500017e-06 8.146674837917089e-06 8.305348952611288e-05\n"
     ]
    },
    {
     "name": "stderr",
     "output_type": "stream",
     "text": [
      " 47%|████▋     | 14/30 [02:00<02:16,  8.55s/it]"
     ]
    },
    {
     "name": "stdout",
     "output_type": "stream",
     "text": [
      "7.99239796112504e-06 1.0465928042928378e-05 4.405624916156133e-05\n"
     ]
    },
    {
     "name": "stderr",
     "output_type": "stream",
     "text": [
      " 50%|█████     | 15/30 [02:08<02:08,  8.56s/it]"
     ]
    },
    {
     "name": "stdout",
     "output_type": "stream",
     "text": [
      "7.999345513158722e-06 1.0494784452021122e-05 3.079930692911148e-05\n"
     ]
    },
    {
     "name": "stderr",
     "output_type": "stream",
     "text": [
      " 53%|█████▎    | 16/30 [02:17<01:59,  8.55s/it]"
     ]
    },
    {
     "name": "stdout",
     "output_type": "stream",
     "text": [
      "7.830462769784949e-06 7.298231745759646e-06 6.399987017114957e-05\n"
     ]
    },
    {
     "name": "stderr",
     "output_type": "stream",
     "text": [
      " 57%|█████▋    | 17/30 [02:25<01:51,  8.57s/it]"
     ]
    },
    {
     "name": "stdout",
     "output_type": "stream",
     "text": [
      "7.975208630229821e-06 7.75551392386357e-06 7.747021690011025e-05\n"
     ]
    },
    {
     "name": "stderr",
     "output_type": "stream",
     "text": [
      " 60%|██████    | 18/30 [02:34<01:42,  8.56s/it]"
     ]
    },
    {
     "name": "stdout",
     "output_type": "stream",
     "text": [
      "8.122755034843035e-06 9.795203960190217e-06 4.305917769670487e-05\n"
     ]
    },
    {
     "name": "stderr",
     "output_type": "stream",
     "text": [
      " 63%|██████▎   | 19/30 [02:42<01:34,  8.55s/it]"
     ]
    },
    {
     "name": "stdout",
     "output_type": "stream",
     "text": [
      "7.804436445759053e-06 6.9921012036502364e-06 5.810815840959549e-05\n"
     ]
    },
    {
     "name": "stderr",
     "output_type": "stream",
     "text": [
      " 67%|██████▋   | 20/30 [02:51<01:25,  8.54s/it]"
     ]
    },
    {
     "name": "stdout",
     "output_type": "stream",
     "text": [
      "7.985037514580446e-06 1.1377543831864993e-05 5.8697056025266644e-05\n"
     ]
    },
    {
     "name": "stderr",
     "output_type": "stream",
     "text": [
      " 70%|███████   | 21/30 [02:59<01:16,  8.53s/it]"
     ]
    },
    {
     "name": "stdout",
     "output_type": "stream",
     "text": [
      "7.475105579942465e-06 9.162531234323978e-06 3.7719900409380596e-05\n"
     ]
    },
    {
     "name": "stderr",
     "output_type": "stream",
     "text": [
      " 73%|███████▎  | 22/30 [03:08<01:08,  8.53s/it]"
     ]
    },
    {
     "name": "stdout",
     "output_type": "stream",
     "text": [
      "6.6523920793674495e-06 1.1618566078444322e-05 5.293585111697515e-05\n"
     ]
    },
    {
     "name": "stderr",
     "output_type": "stream",
     "text": [
      " 77%|███████▋  | 23/30 [03:16<00:59,  8.55s/it]"
     ]
    },
    {
     "name": "stdout",
     "output_type": "stream",
     "text": [
      "7.588333821969858e-06 7.550885900855065e-06 3.556274498502413e-05\n"
     ]
    },
    {
     "name": "stderr",
     "output_type": "stream",
     "text": [
      " 80%|████████  | 24/30 [03:25<00:51,  8.54s/it]"
     ]
    },
    {
     "name": "stdout",
     "output_type": "stream",
     "text": [
      "8.41369451709876e-06 8.912856845806042e-06 0.00010004250456889471\n"
     ]
    },
    {
     "name": "stderr",
     "output_type": "stream",
     "text": [
      " 83%|████████▎ | 25/30 [03:33<00:42,  8.54s/it]"
     ]
    },
    {
     "name": "stdout",
     "output_type": "stream",
     "text": [
      "6.847158491023277e-06 8.778883454700312e-06 2.0104389327267805e-05\n"
     ]
    },
    {
     "name": "stderr",
     "output_type": "stream",
     "text": [
      " 87%|████████▋ | 26/30 [03:42<00:34,  8.54s/it]"
     ]
    },
    {
     "name": "stdout",
     "output_type": "stream",
     "text": [
      "7.0118950230575965e-06 6.898239565392335e-06 7.858533163865407e-05\n"
     ]
    },
    {
     "name": "stderr",
     "output_type": "stream",
     "text": [
      " 90%|█████████ | 27/30 [03:51<00:25,  8.53s/it]"
     ]
    },
    {
     "name": "stdout",
     "output_type": "stream",
     "text": [
      "6.039924486621953e-06 5.6248203230400884e-06 4.510792468984922e-05\n"
     ]
    },
    {
     "name": "stderr",
     "output_type": "stream",
     "text": [
      " 93%|█████████▎| 28/30 [03:59<00:17,  8.53s/it]"
     ]
    },
    {
     "name": "stdout",
     "output_type": "stream",
     "text": [
      "6.218605556345561e-06 1.0045664384961129e-05 2.549067853639523e-05\n"
     ]
    },
    {
     "name": "stderr",
     "output_type": "stream",
     "text": [
      " 97%|█████████▋| 29/30 [04:08<00:08,  8.55s/it]"
     ]
    },
    {
     "name": "stdout",
     "output_type": "stream",
     "text": [
      "6.116618855709308e-06 8.688459483285745e-06 5.597184846798579e-05\n"
     ]
    },
    {
     "name": "stderr",
     "output_type": "stream",
     "text": [
      "100%|██████████| 30/30 [04:16<00:00,  8.56s/it]"
     ]
    },
    {
     "name": "stdout",
     "output_type": "stream",
     "text": [
      "6.414046694867705e-06 9.139353254189094e-06 2.7423148353894553e-05\n"
     ]
    },
    {
     "name": "stderr",
     "output_type": "stream",
     "text": [
      "\n"
     ]
    }
   ],
   "source": [
    "log = []\n",
    "for epoch in tqdm(range (EPOCHS)):\n",
    "    loss_train = train(model, train_loader, criterion, optimizer, ssl = True)\n",
    "    loss_eval = eval(model, val_loader, criterion, ssl = True)\n",
    "    corr = eval(model, val_loader, pearson_delta, ssl = True)\n",
    "    print(loss_train, loss_eval, corr)\n",
    "    log.append([loss_train, loss_eval])"
   ]
  },
  {
   "cell_type": "code",
   "execution_count": 9,
   "metadata": {},
   "outputs": [],
   "source": [
    "import numpy as np\n",
    "log = np.array(log)"
   ]
  },
  {
   "cell_type": "code",
   "execution_count": 10,
   "metadata": {},
   "outputs": [
    {
     "data": {
      "text/plain": [
       "(7.876629181402295e-06, 5.004689685608211e-05)"
      ]
     },
     "execution_count": 10,
     "metadata": {},
     "output_type": "execute_result"
    },
    {
     "data": {
      "image/png": "[encoded data removed]",
      "text/plain": [
       "<Figure size 640x480 with 1 Axes>"
      ]
     },
     "metadata": {},
     "output_type": "display_data"
    }
   ],
   "source": [
    "plt.plot(log);\n",
    "eval(model, test_loader, criterion, ssl = True), eval(model, test_loader, pearson_delta, ssl = True)\n",
    "# eval(model, test_loader, criterion, ssl = True)"
   ]
  },
  {
   "cell_type": "code",
   "execution_count": 12,
   "metadata": {},
   "outputs": [],
   "source": [
    "for idx, (label, text, offsets) in enumerate(val_loader):\n",
    "    btsz = len(offsets) // 2\n",
    "    h = model.forward(text, offsets)\n",
    "    delta = torch.nn.functional.pairwise_distance(h[:btsz], h[btsz:])\n",
    "    loss = criterion(delta, label)\n",
    "    break"
   ]
  },
  {
   "cell_type": "code",
   "execution_count": 13,
   "metadata": {},
   "outputs": [
    {
     "data": {
      "text/plain": [
       "<matplotlib.collections.PathCollection at 0x7f457fe6f2e0>"
      ]
     },
     "execution_count": 13,
     "metadata": {},
     "output_type": "execute_result"
    },
    {
     "data": {
      "image/png": "[encoded data removed]",
      "text/plain": [
       "<Figure size 640x480 with 1 Axes>"
      ]
     },
     "metadata": {},
     "output_type": "display_data"
    }
   ],
   "source": [
    "plt.scatter(delta.cpu().detach(), label.cpu().detach())"
   ]
  },
  {
   "cell_type": "code",
   "execution_count": 14,
   "metadata": {},
   "outputs": [],
   "source": [
    "from sklearn.neighbors import KNeighborsClassifier\n",
    "train_loader, val_loader, test_loader = ds.loader(BATCH_SIZE, ssl = False)\n",
    "final_htrain = []\n",
    "final_labels = []\n",
    "for idx, (label, text, offsets) in enumerate(train_loader):\n",
    "    h = model(text, offsets).detach().cpu().numpy()\n",
    "    final_htrain.append(h)\n",
    "    final_labels.append(label.detach().cpu().numpy())\n",
    "final_htrain = np.concatenate(final_htrain, axis=0)\n",
    "final_labels = np.concatenate(final_labels, axis=0)"
   ]
  },
  {
   "cell_type": "code",
   "execution_count": 15,
   "metadata": {},
   "outputs": [],
   "source": [
    "#create tensor placeholder and concatenate\n",
    "h_test = []\n",
    "labels_test = []\n",
    "for idx, (label, text, offsets) in enumerate(test_loader):\n",
    "    h = model.forward(text, offsets)\n",
    "    h_test.append(h.detach().cpu().numpy())\n",
    "    labels_test.append(label.detach().cpu().numpy())\n",
    "#concatenate each position of final_h\n",
    "final_htest = np.concatenate(h_test, axis = 0)\n",
    "labels_test = np.concatenate(labels_test, axis = 0)"
   ]
  },
  {
   "cell_type": "code",
   "execution_count": 16,
   "metadata": {},
   "outputs": [],
   "source": [
    "#fit knn\n",
    "knn = KNeighborsClassifier(n_neighbors=5)\n",
    "knn.fit(final_htrain, final_labels)\n",
    "knn_pred = knn.predict(final_htest)\n",
    "knn_pred_train = knn.predict(final_htrain)"
   ]
  },
  {
   "cell_type": "code",
   "execution_count": 17,
   "metadata": {},
   "outputs": [
    {
     "name": "stdout",
     "output_type": "stream",
     "text": [
      "Accuracy for train is  0.7258771929824561\n",
      "Accuracy for test is  0.5671052631578948\n"
     ]
    }
   ],
   "source": [
    "#calculate accuracy\n",
    "from sklearn.metrics import accuracy_score\n",
    "print (\"Accuracy for train is \", accuracy_score(final_labels, knn_pred_train))\n",
    "print (\"Accuracy for test is \", accuracy_score(labels_test, knn_pred))"
   ]
  },
  {
   "cell_type": "markdown",
   "metadata": {},
   "source": [
    "# REPRODUCAO"
   ]
  },
  {
   "cell_type": "code",
   "execution_count": null,
   "metadata": {},
   "outputs": [],
   "source": []
  },
  {
   "cell_type": "code",
   "execution_count": 71,
   "metadata": {},
   "outputs": [],
   "source": [
    "from sklearn.neighbors import KNeighborsClassifier\n",
    "train_loader, val_loader, test_loader = ds.loader(BATCH_SIZE, ssl = True)\n",
    "final_htrain = []\n",
    "final_labels = []\n",
    "y_train = []\n",
    "for idx, (label, text, offsets, y) in enumerate(train_loader):\n",
    "    final_labels.append(label)\n",
    "    y_train.append(y.cpu().numpy())\n",
    "\n",
    "#final_htrain = np.concatenate(final_htrain, axis=0)\n",
    "final_labels = np.concatenate(final_labels, axis=0)\n",
    "y_train = np.concatenate(y_train, axis=0)"
   ]
  },
  {
   "cell_type": "code",
   "execution_count": 68,
   "metadata": {},
   "outputs": [],
   "source": [
    "from sklearn.neighbors import KNeighborsClassifier\n",
    "train_loader, val_loader, test_loader = ds.loader(BATCH_SIZE, ssl = True)\n",
    "final_labels_test = []\n",
    "y_test = []\n",
    "for idx, (label, text, offsets, y) in enumerate(test_loader):\n",
    "    #print (label)\n",
    "    final_labels_test.append(label)\n",
    "    y_test.append(y.cpu().numpy())\n",
    "\n",
    "#final_htrain = np.concatenate(final_htrain, axis=0)\n",
    "final_labels_test = np.concatenate(final_labels_test, axis=0)\n",
    "y_test = np.concatenate(y_test, axis=0)"
   ]
  },
  {
   "cell_type": "code",
   "execution_count": 74,
   "metadata": {},
   "outputs": [
    {
     "name": "stderr",
     "output_type": "stream",
     "text": [
      "  0%|          | 32/7600 [03:06<12:16:19,  5.84s/it]"
     ]
    }
   ],
   "source": [
    "#calculate ncd of final_labels and calculate knn, as described in the algorithm from the paper\n",
    "k=2\n",
    "final_yhat = []\n",
    "for x1 in tqdm(final_labels_test):\n",
    "    c_x1 = len(gzip.compress(x1.encode('utf-8')))\n",
    "    distance_from_x1 = []\n",
    "    for x2 in (final_labels):\n",
    "        c_x2 = len(gzip.compress(x2.encode('utf-8')))\n",
    "        c_x1_x2 = len(gzip.compress((x1+x2).encode('utf-8')))\n",
    "        distance_from_x1.append((c_x1_x2 - min(c_x1, c_x2)) / max(c_x1, c_x2))\n",
    "\n",
    "    #calculate knn\n",
    "    sorted_idx = np.argsort(distance_from_x1)\n",
    "    topk_class = y_train[sorted_idx[:k]]\n",
    "    yhat = np.argmax(np.bincount(topk_class))\n",
    "    final_yhat.append(yhat)\n",
    "\n",
    "#calculate accuracy\n",
    "final_yhat = np.array(final_yhat)\n",
    "from sklearn.metrics import accuracy_score\n",
    "\n",
    "print(\"Accuracy: \", accuracy_score(y_test, final_yhat))\n",
    "    \n",
    "\n",
    "            \n"
   ]
  }
 ],
 "metadata": {
  "kernelspec": {
   "display_name": "jiang2023low",
   "language": "python",
   "name": "python3"
  },
  "language_info": {
   "codemirror_mode": {
    "name": "ipython",
    "version": 3
   },
   "file_extension": ".py",
   "mimetype": "text/x-python",
   "name": "python",
   "nbconvert_exporter": "python",
   "pygments_lexer": "ipython3",
   "version": "3.9.15"
  },
  "orig_nbformat": 4
 },
 "nbformat": 4,
 "nbformat_minor": 2
}
